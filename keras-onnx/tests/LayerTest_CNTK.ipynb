{
 "cells": [
  {
   "cell_type": "markdown",
   "metadata": {},
   "source": [
    "# CNTK Test Platform\n",
    "Can compare the results of running onnx model on the CNTK and running hdf5 model on Keras."
   ]
  },
  {
   "cell_type": "code",
   "execution_count": null,
   "metadata": {
    "scrolled": false
   },
   "outputs": [],
   "source": [
    "import sys\n",
    "sys.path.insert(0, \"../onnx-keras/\")\n",
    "import frontend\n",
    "\n",
    "from keras.models import load_model\n",
    "import keras.layers as Klayers\n",
    "from keras.models import Model\n",
    "import numpy as np\n",
    "\n",
    "import logging\n",
    "logger = logging.getLogger()\n",
    "logger.setLevel(logging.INFO)\n",
    "logging.debug(\"Ensure debug outputs\")"
   ]
  },
  {
   "cell_type": "code",
   "execution_count": null,
   "metadata": {
    "scrolled": false
   },
   "outputs": [],
   "source": [
    "np.set_printoptions(suppress=True, formatter={'float': '{:0.6f}'.format})"
   ]
  },
  {
   "cell_type": "markdown",
   "metadata": {},
   "source": [
    "## Initialization\n",
    "Set the path of models and the input size. Load the model. Or construct a model yourself."
   ]
  },
  {
   "cell_type": "code",
   "execution_count": null,
   "metadata": {
    "scrolled": false
   },
   "outputs": [],
   "source": [
    "# Configurations\n",
    "# KerasFile = \"/home/jiyuan/Work/playground/submodel1_0_256_0.97_0.92_270.hdf5\"\n",
    "# OnnxFile = \"/home/jiyuan/Work/playground/model.onnx\"\n",
    "# KerasFile = \"C:\\\\Users\\\\Joel Liu\\\\Work\\\\kneron_gesnet.hdf5\"\n",
    "KerasFile = \"C:\\\\Users\\\\Joel Liu\\\\Work\\\\tiny-yolo-voc.hdf5\"\n",
    "OnnxFile = \"C:\\\\Users\\\\Joel Liu\\\\Work\\\\model.onnx\""
   ]
  },
  {
   "cell_type": "code",
   "execution_count": null,
   "metadata": {
    "scrolled": false
   },
   "outputs": [],
   "source": [
    "# Reload the frontend\n",
    "import importlib\n",
    "importlib.reload(frontend)\n",
    "rand_input = np.random.rand(1, 224, 224, 3).astype('float32')"
   ]
  },
  {
   "cell_type": "code",
   "execution_count": null,
   "metadata": {
    "scrolled": false
   },
   "outputs": [],
   "source": [
    "# Load from file\n",
    "k_model = load_model(KerasFile)\n",
    "# layer_name = 'batch_normalization_1'\n",
    "# k_model = Model(inputs=k_model.input, outputs=k_model.get_layer(layer_name).output)"
   ]
  },
  {
   "cell_type": "code",
   "execution_count": null,
   "metadata": {
    "scrolled": false
   },
   "outputs": [],
   "source": [
    "#Construct testing model\n",
    "# inputs = Klayers.Input(shape=(112,))\n",
    "# x = Klayers.Reshape((1, 1, 112))(inputs)\n",
    "\n",
    "# k_model = Model(inputs=inputs, outputs=x)\n",
    "# k_model.compile(optimizer='rmsprop',\n",
    "#               loss='categorical_crossentropy',\n",
    "#               metrics=['accuracy'])\n",
    "\n",
    "# # a = np.random.rand(1, 32).astype('float32')\n",
    "# # b = np.random.rand(1, 32).astype('float32')\n",
    "# # k_model.fit(x=a,y=b)\n",
    "\n",
    "# k_model.summary()"
   ]
  },
  {
   "cell_type": "markdown",
   "metadata": {},
   "source": [
    "## Conversion\n",
    "Convert the model into onnx."
   ]
  },
  {
   "cell_type": "code",
   "execution_count": null,
   "metadata": {
    "scrolled": false
   },
   "outputs": [],
   "source": [
    "# Onnx part\n",
    "converter = frontend.KerasFrontend()\n",
    "converter.loadFromModel(k_model)\n",
    "onnx_model = converter.convertToOnnx()\n",
    "converter.saveToFile(OnnxFile)"
   ]
  },
  {
   "cell_type": "markdown",
   "metadata": {},
   "source": [
    "## Comparison\n",
    "The section below will compare two results. However, there are still bugs in CNTK. So wrong results does not indicate that the onnx model is wrong. Here list the known bugs in CNTK.\n",
    "\n",
    "1. CNTK cannot deal with epsilon other than 1e-5 in the BatchNormalization layer.\n",
    "2. CNTK cannot deal with Reshape layers."
   ]
  },
  {
   "cell_type": "code",
   "execution_count": null,
   "metadata": {
    "scrolled": false
   },
   "outputs": [],
   "source": [
    "#　Keras part\n",
    "k_out = k_model.predict(rand_input)"
   ]
  },
  {
   "cell_type": "code",
   "execution_count": null,
   "metadata": {
    "scrolled": false
   },
   "outputs": [],
   "source": [
    "# pre = k_out"
   ]
  },
  {
   "cell_type": "code",
   "execution_count": null,
   "metadata": {
    "scrolled": true
   },
   "outputs": [],
   "source": [
    "# CNTK part\n",
    "import cntk as C\n",
    "\n",
    "z = C.Function.load(OnnxFile, device=C.device.cpu(), format=C.ModelFormat.ONNX)\n",
    "z_out = z.eval(np.transpose(rand_input, [0, 3, 1, 2]))"
   ]
  },
  {
   "cell_type": "code",
   "execution_count": null,
   "metadata": {
    "scrolled": true
   },
   "outputs": [],
   "source": [
    "# Compare\n",
    "print(converter.ops)\n",
    "if len(k_out.shape) == 4:\n",
    "    k_out_t = np.transpose(k_out, [0, 3, 1, 2])\n",
    "else:\n",
    "    k_out_t = k_out\n",
    "# if len(z_out.shape) != len(k_out.shape):\n",
    "#     z_out = z_out.reshape(np.shape(k_out.shape))\n",
    "result = z_out - k_out_t\n",
    "abs_result = np.absolute(result)\n",
    "threshold = 0.01\n",
    "\n",
    "if (abs_result > threshold).any():\n",
    "    print(\"Wrong values (threshold: {}):\".format(threshold))\n",
    "    wv = abs_result[np.where(abs_result > threshold)]\n",
    "    print(sorted(wv, reverse=True)[:10])\n",
    "    print(\"Count: {} - {:.2f}%\".format(len(wv), len(wv) / abs_result.size * 100))\n",
    "#     print(\"Difference:\")\n",
    "#     print(result)\n",
    "else:\n",
    "    print(\"Test passed (threshold: {})\".format(threshold))\n",
    "# print(\"Input:\")\n",
    "# print(np.transpose(pre, [0, 3, 1, 2]))\n",
    "# print(\"Keras output:\")\n",
    "# print(k_out_t)\n",
    "# print(\"CNTK output:\")\n",
    "# print(z_out)"
   ]
  },
  {
   "cell_type": "code",
   "execution_count": null,
   "metadata": {
    "scrolled": false
   },
   "outputs": [],
   "source": [
    "# k_model.get_layer('batch_normalization_1').get_weights()"
   ]
  },
  {
   "cell_type": "code",
   "execution_count": null,
   "metadata": {
    "scrolled": false
   },
   "outputs": [],
   "source": [
    "# (-0.549246 - -0.291988)/(0.036777 + 1e-3)**0.5 * 2.524630 + -1.684543"
   ]
  },
  {
   "cell_type": "code",
   "execution_count": null,
   "metadata": {
    "scrolled": false
   },
   "outputs": [],
   "source": [
    "# with open('C:\\\\Users\\\\Joel Liu\\\\Work\\\\model.txt', 'w') as f:\n",
    "#     f.write(str(onnx_model))\n",
    "#     f.close()\n",
    "    \n",
    "# print(onnx_model)"
   ]
  }
 ],
 "metadata": {
  "kernelspec": {
   "display_name": "Python 3",
   "language": "python",
   "name": "python3"
  },
  "language_info": {
   "codemirror_mode": {
    "name": "ipython",
    "version": 3
   },
   "file_extension": ".py",
   "mimetype": "text/x-python",
   "name": "python",
   "nbconvert_exporter": "python",
   "pygments_lexer": "ipython3",
   "version": "3.5.5"
  }
 },
 "nbformat": 4,
 "nbformat_minor": 2
}
